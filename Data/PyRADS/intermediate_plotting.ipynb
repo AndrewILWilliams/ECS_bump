{
 "cells": [
  {
   "cell_type": "code",
   "execution_count": 5,
   "metadata": {},
   "outputs": [],
   "source": [
    "import numpy as np\n",
    "import matplotlib.pyplot as plt"
   ]
  },
  {
   "cell_type": "code",
   "execution_count": null,
   "metadata": {},
   "outputs": [],
   "source": []
  },
  {
   "cell_type": "code",
   "execution_count": 6,
   "metadata": {},
   "outputs": [],
   "source": [
    "temps = np.array([280, 281, 282, 283, 284, 285, 286, 287, 288, 289, \n",
    "                  290, 291, 292, 293, 294, 295, 296, 297, 298, 299, \n",
    "                  300, 301, 302, 303, 304, 305, 306, 307,  308, 309, \n",
    "                  310, 311, 312,           315, 316, 317, 318, 319, 320])"
   ]
  },
  {
   "cell_type": "code",
   "execution_count": 7,
   "metadata": {},
   "outputs": [
    {
     "name": "stdout",
     "output_type": "stream",
     "text": [
      "280 [10]\n",
      "281 [15]\n",
      "282 [23]\n",
      "283 [36]\n",
      "284 [55]\n",
      "285 [101]\n",
      "286 [145]\n",
      "287 [202]\n",
      "288 [270]\n",
      "289 [374]\n",
      "290 [473]\n",
      "291 [716]\n",
      "292 [888]\n",
      "293 [1094]\n",
      "294 [1347]\n",
      "295 [1545]\n",
      "296 [2180]\n",
      "297 [2598]\n",
      "298 [3009]\n",
      "299 [3313]\n",
      "300 [3553]\n",
      "301 [3705]\n",
      "302 [5582]\n",
      "303 [6031]\n",
      "304 [6379]\n",
      "305 [6585]\n",
      "306 [6607]\n",
      "307 [6420]\n",
      "308 [10352]\n",
      "309 [10926]\n",
      "310 [11303]\n",
      "311 [11392]\n",
      "312 [11119]\n",
      "315 [19238]\n",
      "316 [22753]\n",
      "317 [26199]\n",
      "318 [31033]\n",
      "319 [37201]\n",
      "320 [44421]\n"
     ]
    },
    {
     "data": {
      "image/png": "[encoded data removed]",
      "text/plain": [
       "<Figure size 432x288 with 1 Axes>"
      ]
     },
     "metadata": {
      "needs_background": "light"
     },
     "output_type": "display_data"
    }
   ],
   "source": [
    "fig, ax = plt.subplots()\n",
    "\n",
    "for temp in temps:\n",
    "    \n",
    "    arr = np.load(f\"co2_{temp}K.npy\")\n",
    "    print(temp, arr)\n",
    "    ax.scatter(temp, arr, color='k')\n",
    "    \n",
    "ax.set_yscale('log')"
   ]
  },
  {
   "cell_type": "code",
   "execution_count": null,
   "metadata": {},
   "outputs": [],
   "source": []
  }
 ],
 "metadata": {
  "kernelspec": {
   "display_name": "ecsbump",
   "language": "python",
   "name": "ecsbump"
  },
  "language_info": {
   "codemirror_mode": {
    "name": "ipython",
    "version": 3
   },
   "file_extension": ".py",
   "mimetype": "text/x-python",
   "name": "python",
   "nbconvert_exporter": "python",
   "pygments_lexer": "ipython3",
   "version": "3.7.9"
  }
 },
 "nbformat": 4,
 "nbformat_minor": 4
}
