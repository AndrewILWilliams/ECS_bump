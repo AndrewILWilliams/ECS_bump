{
 "cells": [
  {
   "cell_type": "markdown",
   "metadata": {},
   "source": [
    "# Couple a simple single column model to the RRTMG scheme and explore ECS\n",
    "\n",
    "The thermal structure of the atmosphere is assumed to follow the pseudoadiabatic lapse rate in the troposphere, with an overlying isothermal stratosphere at a fixed tropopause temperature, following Seeley and Jeevanjee (2020)."
   ]
  },
  {
   "cell_type": "code",
   "execution_count": 7,
   "metadata": {},
   "outputs": [],
   "source": [
    "%matplotlib inline \n",
    "import climlab\n",
    "import numpy as np\n",
    "from matplotlib import pyplot as plt\n",
    "import scipy.integrate as sp  #Gives access to the ODE integration package\n",
    "from attrdict import AttrDict"
   ]
  },
  {
   "cell_type": "code",
   "execution_count": 12,
   "metadata": {},
   "outputs": [],
   "source": [
    "class Dummy:\n",
    "    pass\n",
    "\n",
    "params = Dummy()\n",
    "\n",
    "params.eps   = 0.622 # molar mass ratio of vapour to total moist air\n",
    "params.L     = 2260000 # Latent heat of vap, water, J/kg\n",
    "\n",
    "params.R_a   = 287.058 # gas constant for dry air, J/kg/K\n",
    "params.R_c   = 461.5  # gas constant for water vapour, J/kg/K\n",
    "params.cp_a  = 1004 # specific heat capacity of air, J/kg/K\n",
    "\n",
    "params.Tstrat = 200 # isothermal stratosphere, K"
   ]
  },
  {
   "cell_type": "code",
   "execution_count": 69,
   "metadata": {},
   "outputs": [],
   "source": [
    "# Define functions\n",
    "\n",
    "def q(T, P): # specific humidity at saturation (using Clausius-Clapeyron)\n",
    "    return climlab.utils.thermo.qsat(T, P)\n",
    "\n",
    "def moist_adiabat(T, P): # Pressure coords gives dT/dP (if using the T/P prefactor)\n",
    "    return np.divide(T, P) * np.divide(params.R_a, params.cp_a) * np.divide(1 + np.divide(params.L*q(T, P), params.R_a * T), \n",
    "                                                                            1 + np.divide(params.L**2 * q(T, P), params.cp_a * params.R_c * T**2))\n",
    "\n",
    "# Or, equivalently...\n",
    "def pseudoadiabat(T,p):\n",
    "    return climlab.utils.thermo.pseudoadiabat(T, p)\n",
    "\n",
    "def dry_adiabat(T):\n",
    "    return np.divide(params.params.R_a, cp_a)\n",
    "\n",
    "def generate_idealized_temp_profile(SST, Tstrat, plevs):\n",
    "    solution = sp.odeint(pseudoadiabat, SST, np.flip(plevs))\n",
    "    temp = solution.reshape(-1)\n",
    "    temp[np.where(temp<Tstrat)] = Tstrat\n",
    "    return temp"
   ]
  },
  {
   "cell_type": "code",
   "execution_count": 166,
   "metadata": {},
   "outputs": [],
   "source": [
    "def test_olr(SST, CO2):\n",
    "    ## RRTMG\n",
    "    #  Couple water vapor to radiation\n",
    "    ## climlab setup\n",
    "    # create surface and atmosperic domains\n",
    "    sfc, atm = climlab.domain.single_column(num_lev=60, num_lat=1, water_depth=5.)\n",
    "\n",
    "    # create atmosheric state\n",
    "    state = AttrDict()\n",
    "\n",
    "    # assign surface temperature and vertical temperature profiles\n",
    "    Ts_ = climlab.Field(np.array([SST]), domain=sfc)\n",
    "    state['Ts'] = Ts_\n",
    "\n",
    "    temp = generate_idealized_temp_profile(SST, \n",
    "                                           params.Tstrat, \n",
    "                                           atm.axes['lev'].points)\n",
    "    Tatm = climlab.Field(temp, domain=atm)\n",
    "    state['Tatm'] = Tatm\n",
    "\n",
    "    #  Create a parent process\n",
    "    rce = climlab.TimeDependentProcess(state=state)\n",
    "    \n",
    "    ## Create individual physical process models:\n",
    "    #  fixed relative humidity\n",
    "    h2o = climlab.radiation.water_vapor.FixedRelativeHumidity(state=state)\n",
    "    h2o.RH_profile = 0.8\n",
    "    # RRTMG radiation\n",
    "    rad = climlab.radiation.RRTMG(state=state, specific_humidity=h2o.q, albedo=0.2, ozone_file=None)\n",
    "    rad.subprocess['LW'].absorber_vmr = {'CO2':CO2/1e6,\n",
    "                                         'CH4':0.,\n",
    "                                         'N2O':0.,\n",
    "                                         'O2':0.,\n",
    "                                         'CFC11':0.,\n",
    "                                         'CFC12':0.,\n",
    "                                         'CFC22':0.,\n",
    "                                         'CCL4':0.,\n",
    "                                         'O3':0.\n",
    "                                        }\n",
    "    \n",
    "    # Couple the models\n",
    "    rce.add_subprocess('Radiation', rad)\n",
    "    rce.add_subprocess('H2O', h2o)\n",
    "\n",
    "    rce.compute()\n",
    "    olr = rce.OLR[0]\n",
    "    #print(olr,end=\"\\n\")\n",
    "    return olr, rce.to_xarray(rce.diagnostics)"
   ]
  },
  {
   "cell_type": "code",
   "execution_count": 167,
   "metadata": {},
   "outputs": [
    {
     "data": {
      "text/plain": [
       "375.54275170382147"
      ]
     },
     "execution_count": 167,
     "metadata": {},
     "output_type": "execute_result"
    }
   ],
   "source": [
    "OLR0, m = test_olr(SST=288,CO2=280)\n",
    "OLR0"
   ]
  },
  {
   "cell_type": "code",
   "execution_count": 169,
   "metadata": {},
   "outputs": [
    {
     "data": {
      "text/plain": [
       "10.749576983534894"
      ]
     },
     "execution_count": 169,
     "metadata": {},
     "output_type": "execute_result"
    }
   ],
   "source": [
    "test_olr(SST=290,CO2=640)[0] - OLR0"
   ]
  },
  {
   "cell_type": "code",
   "execution_count": null,
   "metadata": {},
   "outputs": [],
   "source": []
  },
  {
   "cell_type": "code",
   "execution_count": null,
   "metadata": {},
   "outputs": [],
   "source": []
  },
  {
   "cell_type": "code",
   "execution_count": 124,
   "metadata": {},
   "outputs": [],
   "source": [
    "OLRS = np.zeros((10,10))\n",
    "\n",
    "for idx1, temp in enumerate(np.linspace(280, 290, 10)):\n",
    "    for idx2, co2 in enumerate(np.linspace(280, 1200, 10)):\n",
    "        OLRS[idx1, idx2],_ = test_olr(temp, co2)"
   ]
  },
  {
   "cell_type": "code",
   "execution_count": 125,
   "metadata": {},
   "outputs": [
    {
     "data": {
      "text/plain": [
       "<matplotlib.colorbar.Colorbar at 0x13e1bd290>"
      ]
     },
     "execution_count": 125,
     "metadata": {},
     "output_type": "execute_result"
    },
    {
     "data": {
      "image/png": "[encoded data removed]",
      "text/plain": [
       "<Figure size 432x288 with 2 Axes>"
      ]
     },
     "metadata": {
      "needs_background": "light"
     },
     "output_type": "display_data"
    }
   ],
   "source": [
    "fig, ax = plt.subplots()\n",
    "p=ax.contourf(np.linspace(280, 300, 10),np.linspace(280, 1200, 10),OLRS)\n",
    "fig.colorbar(p)"
   ]
  },
  {
   "cell_type": "code",
   "execution_count": 30,
   "metadata": {},
   "outputs": [
    {
     "name": "stdout",
     "output_type": "stream",
     "text": [
      "280.0\n",
      "279\n",
      "278\n",
      "277\n",
      "276\n",
      "275\n",
      "274\n",
      "273\n",
      "272\n"
     ]
    },
    {
     "ename": "KeyboardInterrupt",
     "evalue": "",
     "output_type": "error",
     "traceback": [
      "\u001b[0;31m---------------------------------------------------------------------------\u001b[0m",
      "\u001b[0;31mKeyboardInterrupt\u001b[0m                         Traceback (most recent call last)",
      "\u001b[0;32m<timed exec>\u001b[0m in \u001b[0;36m<module>\u001b[0;34m\u001b[0m\n",
      "\u001b[0;32m<ipython-input-28-5384d96fb793>\u001b[0m in \u001b[0;36mtest_olr\u001b[0;34m(SST, CO2)\u001b[0m\n\u001b[1;32m     42\u001b[0m \u001b[0;34m\u001b[0m\u001b[0m\n\u001b[1;32m     43\u001b[0m     \u001b[0;31m#rce.compute()\u001b[0m\u001b[0;34m\u001b[0m\u001b[0;34m\u001b[0m\u001b[0;34m\u001b[0m\u001b[0m\n\u001b[0;32m---> 44\u001b[0;31m     \u001b[0mrce\u001b[0m\u001b[0;34m.\u001b[0m\u001b[0mintegrate_years\u001b[0m\u001b[0;34m(\u001b[0m\u001b[0;36m1\u001b[0m\u001b[0;34m,\u001b[0m\u001b[0;32mFalse\u001b[0m\u001b[0;34m)\u001b[0m\u001b[0;34m\u001b[0m\u001b[0;34m\u001b[0m\u001b[0m\n\u001b[0m\u001b[1;32m     45\u001b[0m     \u001b[0molr\u001b[0m \u001b[0;34m=\u001b[0m \u001b[0mrce\u001b[0m\u001b[0;34m.\u001b[0m\u001b[0mOLR\u001b[0m\u001b[0;34m[\u001b[0m\u001b[0;36m0\u001b[0m\u001b[0;34m]\u001b[0m\u001b[0;34m\u001b[0m\u001b[0;34m\u001b[0m\u001b[0m\n\u001b[1;32m     46\u001b[0m     \u001b[0;31m#print(olr,end=\"\\n\")\u001b[0m\u001b[0;34m\u001b[0m\u001b[0;34m\u001b[0m\u001b[0;34m\u001b[0m\u001b[0m\n",
      "\u001b[0;32m/opt/anaconda3/envs/rce_bump/lib/python3.7/site-packages/climlab/process/time_dependent_process.py\u001b[0m in \u001b[0;36mintegrate_years\u001b[0;34m(self, years, verbose)\u001b[0m\n\u001b[1;32m    417\u001b[0m         \u001b[0;32mfor\u001b[0m \u001b[0mcount\u001b[0m \u001b[0;32min\u001b[0m \u001b[0mrange\u001b[0m\u001b[0;34m(\u001b[0m\u001b[0mnumsteps\u001b[0m\u001b[0;34m)\u001b[0m\u001b[0;34m:\u001b[0m\u001b[0;34m\u001b[0m\u001b[0;34m\u001b[0m\u001b[0m\n\u001b[1;32m    418\u001b[0m             \u001b[0;31m# Compute the timestep\u001b[0m\u001b[0;34m\u001b[0m\u001b[0;34m\u001b[0m\u001b[0;34m\u001b[0m\u001b[0m\n\u001b[0;32m--> 419\u001b[0;31m             \u001b[0mself\u001b[0m\u001b[0;34m.\u001b[0m\u001b[0mstep_forward\u001b[0m\u001b[0;34m(\u001b[0m\u001b[0;34m)\u001b[0m\u001b[0;34m\u001b[0m\u001b[0;34m\u001b[0m\u001b[0m\n\u001b[0m\u001b[1;32m    420\u001b[0m             \u001b[0;32mif\u001b[0m \u001b[0mcount\u001b[0m \u001b[0;34m==\u001b[0m \u001b[0;36m0\u001b[0m\u001b[0;34m:\u001b[0m\u001b[0;34m\u001b[0m\u001b[0;34m\u001b[0m\u001b[0m\n\u001b[1;32m    421\u001b[0m                 \u001b[0;31m# on first step only...\u001b[0m\u001b[0;34m\u001b[0m\u001b[0;34m\u001b[0m\u001b[0;34m\u001b[0m\u001b[0m\n",
      "\u001b[0;32m/opt/anaconda3/envs/rce_bump/lib/python3.7/site-packages/climlab/process/time_dependent_process.py\u001b[0m in \u001b[0;36mstep_forward\u001b[0;34m(self)\u001b[0m\n\u001b[1;32m    331\u001b[0m \u001b[0;34m\u001b[0m\u001b[0m\n\u001b[1;32m    332\u001b[0m         \"\"\"\n\u001b[0;32m--> 333\u001b[0;31m         \u001b[0mtenddict\u001b[0m \u001b[0;34m=\u001b[0m \u001b[0mself\u001b[0m\u001b[0;34m.\u001b[0m\u001b[0mcompute\u001b[0m\u001b[0;34m(\u001b[0m\u001b[0;34m)\u001b[0m\u001b[0;34m\u001b[0m\u001b[0;34m\u001b[0m\u001b[0m\n\u001b[0m\u001b[1;32m    334\u001b[0m         \u001b[0;31m#  Total tendency is applied as an explicit forward timestep\u001b[0m\u001b[0;34m\u001b[0m\u001b[0;34m\u001b[0m\u001b[0;34m\u001b[0m\u001b[0m\n\u001b[1;32m    335\u001b[0m         \u001b[0;31m# (already accounting properly for order of operations in compute() )\u001b[0m\u001b[0;34m\u001b[0m\u001b[0;34m\u001b[0m\u001b[0;34m\u001b[0m\u001b[0m\n",
      "\u001b[0;32m/opt/anaconda3/envs/rce_bump/lib/python3.7/site-packages/climlab/process/time_dependent_process.py\u001b[0m in \u001b[0;36mcompute\u001b[0;34m(self)\u001b[0m\n\u001b[1;32m    211\u001b[0m         \u001b[0mtendencies\u001b[0m \u001b[0;34m=\u001b[0m \u001b[0;34m{\u001b[0m\u001b[0;34m}\u001b[0m\u001b[0;34m\u001b[0m\u001b[0;34m\u001b[0m\u001b[0m\n\u001b[1;32m    212\u001b[0m         \u001b[0mignored\u001b[0m \u001b[0;34m=\u001b[0m \u001b[0mself\u001b[0m\u001b[0;34m.\u001b[0m\u001b[0m_compute_type\u001b[0m\u001b[0;34m(\u001b[0m\u001b[0;34m'diagnostic'\u001b[0m\u001b[0;34m)\u001b[0m\u001b[0;34m\u001b[0m\u001b[0;34m\u001b[0m\u001b[0m\n\u001b[0;32m--> 213\u001b[0;31m         \u001b[0mtendencies\u001b[0m\u001b[0;34m[\u001b[0m\u001b[0;34m'explicit'\u001b[0m\u001b[0;34m]\u001b[0m \u001b[0;34m=\u001b[0m \u001b[0mself\u001b[0m\u001b[0;34m.\u001b[0m\u001b[0m_compute_type\u001b[0m\u001b[0;34m(\u001b[0m\u001b[0;34m'explicit'\u001b[0m\u001b[0;34m)\u001b[0m\u001b[0;34m\u001b[0m\u001b[0;34m\u001b[0m\u001b[0m\n\u001b[0m\u001b[1;32m    214\u001b[0m         \u001b[0;31m#  Tendencies due to implicit and adjustment processes need to be\u001b[0m\u001b[0;34m\u001b[0m\u001b[0;34m\u001b[0m\u001b[0;34m\u001b[0m\u001b[0m\n\u001b[1;32m    215\u001b[0m         \u001b[0;31m#  calculated from a state that is already adjusted after explicit stuff\u001b[0m\u001b[0;34m\u001b[0m\u001b[0;34m\u001b[0m\u001b[0;34m\u001b[0m\u001b[0m\n",
      "\u001b[0;32m/opt/anaconda3/envs/rce_bump/lib/python3.7/site-packages/climlab/process/time_dependent_process.py\u001b[0m in \u001b[0;36m_compute_type\u001b[0;34m(self, proctype)\u001b[0m\n\u001b[1;32m    259\u001b[0m             \u001b[0;32mif\u001b[0m \u001b[0mself\u001b[0m\u001b[0;34m.\u001b[0m\u001b[0mtime\u001b[0m\u001b[0;34m[\u001b[0m\u001b[0;34m'steps'\u001b[0m\u001b[0;34m]\u001b[0m \u001b[0;34m%\u001b[0m \u001b[0mstep_ratio\u001b[0m \u001b[0;34m==\u001b[0m \u001b[0;36m0\u001b[0m\u001b[0;34m:\u001b[0m\u001b[0;34m\u001b[0m\u001b[0;34m\u001b[0m\u001b[0m\n\u001b[1;32m    260\u001b[0m                 \u001b[0mproc\u001b[0m\u001b[0;34m.\u001b[0m\u001b[0mtime\u001b[0m\u001b[0;34m[\u001b[0m\u001b[0;34m'active_now'\u001b[0m\u001b[0;34m]\u001b[0m \u001b[0;34m=\u001b[0m \u001b[0;32mTrue\u001b[0m\u001b[0;34m\u001b[0m\u001b[0;34m\u001b[0m\u001b[0m\n\u001b[0;32m--> 261\u001b[0;31m                 \u001b[0mtenddict\u001b[0m \u001b[0;34m=\u001b[0m \u001b[0mproc\u001b[0m\u001b[0;34m.\u001b[0m\u001b[0mcompute\u001b[0m\u001b[0;34m(\u001b[0m\u001b[0;34m)\u001b[0m\u001b[0;34m\u001b[0m\u001b[0;34m\u001b[0m\u001b[0m\n\u001b[0m\u001b[1;32m    262\u001b[0m             \u001b[0;32melse\u001b[0m\u001b[0;34m:\u001b[0m\u001b[0;34m\u001b[0m\u001b[0;34m\u001b[0m\u001b[0m\n\u001b[1;32m    263\u001b[0m                 \u001b[0;31m# proc.tendencies is unchanged from last subprocess timestep if we didn't recompute it above\u001b[0m\u001b[0;34m\u001b[0m\u001b[0;34m\u001b[0m\u001b[0;34m\u001b[0m\u001b[0m\n",
      "\u001b[0;32m/opt/anaconda3/envs/rce_bump/lib/python3.7/site-packages/climlab/process/time_dependent_process.py\u001b[0m in \u001b[0;36mcompute\u001b[0;34m(self)\u001b[0m\n\u001b[1;32m    211\u001b[0m         \u001b[0mtendencies\u001b[0m \u001b[0;34m=\u001b[0m \u001b[0;34m{\u001b[0m\u001b[0;34m}\u001b[0m\u001b[0;34m\u001b[0m\u001b[0;34m\u001b[0m\u001b[0m\n\u001b[1;32m    212\u001b[0m         \u001b[0mignored\u001b[0m \u001b[0;34m=\u001b[0m \u001b[0mself\u001b[0m\u001b[0;34m.\u001b[0m\u001b[0m_compute_type\u001b[0m\u001b[0;34m(\u001b[0m\u001b[0;34m'diagnostic'\u001b[0m\u001b[0;34m)\u001b[0m\u001b[0;34m\u001b[0m\u001b[0;34m\u001b[0m\u001b[0m\n\u001b[0;32m--> 213\u001b[0;31m         \u001b[0mtendencies\u001b[0m\u001b[0;34m[\u001b[0m\u001b[0;34m'explicit'\u001b[0m\u001b[0;34m]\u001b[0m \u001b[0;34m=\u001b[0m \u001b[0mself\u001b[0m\u001b[0;34m.\u001b[0m\u001b[0m_compute_type\u001b[0m\u001b[0;34m(\u001b[0m\u001b[0;34m'explicit'\u001b[0m\u001b[0;34m)\u001b[0m\u001b[0;34m\u001b[0m\u001b[0;34m\u001b[0m\u001b[0m\n\u001b[0m\u001b[1;32m    214\u001b[0m         \u001b[0;31m#  Tendencies due to implicit and adjustment processes need to be\u001b[0m\u001b[0;34m\u001b[0m\u001b[0;34m\u001b[0m\u001b[0;34m\u001b[0m\u001b[0m\n\u001b[1;32m    215\u001b[0m         \u001b[0;31m#  calculated from a state that is already adjusted after explicit stuff\u001b[0m\u001b[0;34m\u001b[0m\u001b[0;34m\u001b[0m\u001b[0;34m\u001b[0m\u001b[0m\n",
      "\u001b[0;32m/opt/anaconda3/envs/rce_bump/lib/python3.7/site-packages/climlab/process/time_dependent_process.py\u001b[0m in \u001b[0;36m_compute_type\u001b[0;34m(self, proctype)\u001b[0m\n\u001b[1;32m    259\u001b[0m             \u001b[0;32mif\u001b[0m \u001b[0mself\u001b[0m\u001b[0;34m.\u001b[0m\u001b[0mtime\u001b[0m\u001b[0;34m[\u001b[0m\u001b[0;34m'steps'\u001b[0m\u001b[0;34m]\u001b[0m \u001b[0;34m%\u001b[0m \u001b[0mstep_ratio\u001b[0m \u001b[0;34m==\u001b[0m \u001b[0;36m0\u001b[0m\u001b[0;34m:\u001b[0m\u001b[0;34m\u001b[0m\u001b[0;34m\u001b[0m\u001b[0m\n\u001b[1;32m    260\u001b[0m                 \u001b[0mproc\u001b[0m\u001b[0;34m.\u001b[0m\u001b[0mtime\u001b[0m\u001b[0;34m[\u001b[0m\u001b[0;34m'active_now'\u001b[0m\u001b[0;34m]\u001b[0m \u001b[0;34m=\u001b[0m \u001b[0;32mTrue\u001b[0m\u001b[0;34m\u001b[0m\u001b[0;34m\u001b[0m\u001b[0m\n\u001b[0;32m--> 261\u001b[0;31m                 \u001b[0mtenddict\u001b[0m \u001b[0;34m=\u001b[0m \u001b[0mproc\u001b[0m\u001b[0;34m.\u001b[0m\u001b[0mcompute\u001b[0m\u001b[0;34m(\u001b[0m\u001b[0;34m)\u001b[0m\u001b[0;34m\u001b[0m\u001b[0;34m\u001b[0m\u001b[0m\n\u001b[0m\u001b[1;32m    262\u001b[0m             \u001b[0;32melse\u001b[0m\u001b[0;34m:\u001b[0m\u001b[0;34m\u001b[0m\u001b[0;34m\u001b[0m\u001b[0m\n\u001b[1;32m    263\u001b[0m                 \u001b[0;31m# proc.tendencies is unchanged from last subprocess timestep if we didn't recompute it above\u001b[0m\u001b[0;34m\u001b[0m\u001b[0;34m\u001b[0m\u001b[0;34m\u001b[0m\u001b[0m\n",
      "\u001b[0;32m/opt/anaconda3/envs/rce_bump/lib/python3.7/site-packages/climlab/process/time_dependent_process.py\u001b[0m in \u001b[0;36mcompute\u001b[0;34m(self)\u001b[0m\n\u001b[1;32m    233\u001b[0m                 \u001b[0mself\u001b[0m\u001b[0;34m.\u001b[0m\u001b[0mtendencies\u001b[0m\u001b[0;34m[\u001b[0m\u001b[0mvarname\u001b[0m\u001b[0;34m]\u001b[0m \u001b[0;34m+=\u001b[0m \u001b[0mtend\u001b[0m\u001b[0;34m\u001b[0m\u001b[0;34m\u001b[0m\u001b[0m\n\u001b[1;32m    234\u001b[0m         \u001b[0;31m# Finally compute my own tendencies, if any\u001b[0m\u001b[0;34m\u001b[0m\u001b[0;34m\u001b[0m\u001b[0;34m\u001b[0m\u001b[0m\n\u001b[0;32m--> 235\u001b[0;31m         \u001b[0mself_tend\u001b[0m \u001b[0;34m=\u001b[0m \u001b[0mself\u001b[0m\u001b[0;34m.\u001b[0m\u001b[0m_compute\u001b[0m\u001b[0;34m(\u001b[0m\u001b[0;34m)\u001b[0m\u001b[0;34m\u001b[0m\u001b[0;34m\u001b[0m\u001b[0m\n\u001b[0m\u001b[1;32m    236\u001b[0m         \u001b[0;31m#  Adjustment processes _compute method returns absolute adjustment\u001b[0m\u001b[0;34m\u001b[0m\u001b[0;34m\u001b[0m\u001b[0;34m\u001b[0m\u001b[0m\n\u001b[1;32m    237\u001b[0m         \u001b[0;31m#  Needs to be converted to rate of change\u001b[0m\u001b[0;34m\u001b[0m\u001b[0;34m\u001b[0m\u001b[0;34m\u001b[0m\u001b[0m\n",
      "\u001b[0;32m/opt/anaconda3/envs/rce_bump/lib/python3.7/site-packages/climlab/process/energy_budget.py\u001b[0m in \u001b[0;36m_compute\u001b[0;34m(self)\u001b[0m\n\u001b[1;32m     70\u001b[0m \u001b[0;34m\u001b[0m\u001b[0m\n\u001b[1;32m     71\u001b[0m     \u001b[0;32mdef\u001b[0m \u001b[0m_compute\u001b[0m\u001b[0;34m(\u001b[0m\u001b[0mself\u001b[0m\u001b[0;34m)\u001b[0m\u001b[0;34m:\u001b[0m\u001b[0;34m\u001b[0m\u001b[0;34m\u001b[0m\u001b[0m\n\u001b[0;32m---> 72\u001b[0;31m         \u001b[0mtendencies\u001b[0m \u001b[0;34m=\u001b[0m \u001b[0mself\u001b[0m\u001b[0;34m.\u001b[0m\u001b[0m_temperature_tendencies\u001b[0m\u001b[0;34m(\u001b[0m\u001b[0;34m)\u001b[0m\u001b[0;34m\u001b[0m\u001b[0;34m\u001b[0m\u001b[0m\n\u001b[0m\u001b[1;32m     73\u001b[0m         \u001b[0;32mreturn\u001b[0m \u001b[0mtendencies\u001b[0m\u001b[0;34m\u001b[0m\u001b[0;34m\u001b[0m\u001b[0m\n\u001b[1;32m     74\u001b[0m \u001b[0;34m\u001b[0m\u001b[0m\n",
      "\u001b[0;32m/opt/anaconda3/envs/rce_bump/lib/python3.7/site-packages/climlab/process/energy_budget.py\u001b[0m in \u001b[0;36m_temperature_tendencies\u001b[0;34m(self)\u001b[0m\n\u001b[1;32m     58\u001b[0m \u001b[0;34m\u001b[0m\u001b[0m\n\u001b[1;32m     59\u001b[0m     \u001b[0;32mdef\u001b[0m \u001b[0m_temperature_tendencies\u001b[0m\u001b[0;34m(\u001b[0m\u001b[0mself\u001b[0m\u001b[0;34m)\u001b[0m\u001b[0;34m:\u001b[0m\u001b[0;34m\u001b[0m\u001b[0;34m\u001b[0m\u001b[0m\n\u001b[0;32m---> 60\u001b[0;31m         \u001b[0mself\u001b[0m\u001b[0;34m.\u001b[0m\u001b[0m_compute_heating_rates\u001b[0m\u001b[0;34m(\u001b[0m\u001b[0;34m)\u001b[0m\u001b[0;34m\u001b[0m\u001b[0;34m\u001b[0m\u001b[0m\n\u001b[0m\u001b[1;32m     61\u001b[0m         \u001b[0mtendencies\u001b[0m \u001b[0;34m=\u001b[0m \u001b[0;34m{\u001b[0m\u001b[0;34m}\u001b[0m\u001b[0;34m\u001b[0m\u001b[0;34m\u001b[0m\u001b[0m\n\u001b[1;32m     62\u001b[0m         \u001b[0;32mfor\u001b[0m \u001b[0mvarname\u001b[0m\u001b[0;34m,\u001b[0m \u001b[0mvalue\u001b[0m \u001b[0;32min\u001b[0m \u001b[0mself\u001b[0m\u001b[0;34m.\u001b[0m\u001b[0mstate\u001b[0m\u001b[0;34m.\u001b[0m\u001b[0mitems\u001b[0m\u001b[0;34m(\u001b[0m\u001b[0;34m)\u001b[0m\u001b[0;34m:\u001b[0m\u001b[0;34m\u001b[0m\u001b[0;34m\u001b[0m\u001b[0m\n",
      "\u001b[0;32m/opt/anaconda3/envs/rce_bump/lib/python3.7/site-packages/climlab/radiation/rrtm/rrtmg_sw.py\u001b[0m in \u001b[0;36m_compute_heating_rates\u001b[0;34m(self)\u001b[0m\n\u001b[1;32m    192\u001b[0m          \u001b[0minflgsw\u001b[0m\u001b[0;34m,\u001b[0m \u001b[0miceflgsw\u001b[0m\u001b[0;34m,\u001b[0m \u001b[0mliqflgsw\u001b[0m\u001b[0;34m,\u001b[0m\u001b[0;34m\u001b[0m\u001b[0;34m\u001b[0m\u001b[0m\n\u001b[1;32m    193\u001b[0m          \u001b[0mcldfrac\u001b[0m\u001b[0;34m,\u001b[0m \u001b[0mciwp\u001b[0m\u001b[0;34m,\u001b[0m \u001b[0mclwp\u001b[0m\u001b[0;34m,\u001b[0m \u001b[0mreic\u001b[0m\u001b[0;34m,\u001b[0m \u001b[0mrelq\u001b[0m\u001b[0;34m,\u001b[0m \u001b[0mtauc\u001b[0m\u001b[0;34m,\u001b[0m \u001b[0mssac\u001b[0m\u001b[0;34m,\u001b[0m \u001b[0masmc\u001b[0m\u001b[0;34m,\u001b[0m \u001b[0mfsfc\u001b[0m\u001b[0;34m,\u001b[0m\u001b[0;34m\u001b[0m\u001b[0;34m\u001b[0m\u001b[0m\n\u001b[0;32m--> 194\u001b[0;31m          tauaer, ssaaer, asmaer, ecaer,) = self._prepare_sw_arguments()\n\u001b[0m\u001b[1;32m    195\u001b[0m         \u001b[0;32mif\u001b[0m \u001b[0micld\u001b[0m \u001b[0;34m==\u001b[0m \u001b[0;36m0\u001b[0m\u001b[0;34m:\u001b[0m  \u001b[0;31m# clear-sky only\u001b[0m\u001b[0;34m\u001b[0m\u001b[0;34m\u001b[0m\u001b[0m\n\u001b[1;32m    196\u001b[0m             \u001b[0mcldfmcl\u001b[0m \u001b[0;34m=\u001b[0m \u001b[0mnp\u001b[0m\u001b[0;34m.\u001b[0m\u001b[0mzeros\u001b[0m\u001b[0;34m(\u001b[0m\u001b[0;34m(\u001b[0m\u001b[0mngptsw\u001b[0m\u001b[0;34m,\u001b[0m\u001b[0mncol\u001b[0m\u001b[0;34m,\u001b[0m\u001b[0mnlay\u001b[0m\u001b[0;34m)\u001b[0m\u001b[0;34m)\u001b[0m\u001b[0;34m\u001b[0m\u001b[0;34m\u001b[0m\u001b[0m\n",
      "\u001b[0;32m/opt/anaconda3/envs/rce_bump/lib/python3.7/site-packages/climlab/radiation/rrtm/rrtmg_sw.py\u001b[0m in \u001b[0;36m_prepare_sw_arguments\u001b[0;34m(self)\u001b[0m\n\u001b[1;32m    148\u001b[0m         \u001b[0masdif\u001b[0m \u001b[0;34m=\u001b[0m \u001b[0m_climlab_to_rrtm_sfc\u001b[0m\u001b[0;34m(\u001b[0m\u001b[0mself\u001b[0m\u001b[0;34m.\u001b[0m\u001b[0masdif\u001b[0m\u001b[0;34m,\u001b[0m \u001b[0mself\u001b[0m\u001b[0;34m.\u001b[0m\u001b[0mTs\u001b[0m\u001b[0;34m)\u001b[0m\u001b[0;34m\u001b[0m\u001b[0;34m\u001b[0m\u001b[0m\n\u001b[1;32m    149\u001b[0m         \u001b[0masdir\u001b[0m \u001b[0;34m=\u001b[0m \u001b[0m_climlab_to_rrtm_sfc\u001b[0m\u001b[0;34m(\u001b[0m\u001b[0mself\u001b[0m\u001b[0;34m.\u001b[0m\u001b[0masdir\u001b[0m\u001b[0;34m,\u001b[0m \u001b[0mself\u001b[0m\u001b[0;34m.\u001b[0m\u001b[0mTs\u001b[0m\u001b[0;34m)\u001b[0m\u001b[0;34m\u001b[0m\u001b[0;34m\u001b[0m\u001b[0m\n\u001b[0;32m--> 150\u001b[0;31m         \u001b[0mcoszen\u001b[0m \u001b[0;34m=\u001b[0m \u001b[0m_climlab_to_rrtm_sfc\u001b[0m\u001b[0;34m(\u001b[0m\u001b[0mself\u001b[0m\u001b[0;34m.\u001b[0m\u001b[0mcoszen\u001b[0m\u001b[0;34m,\u001b[0m \u001b[0mself\u001b[0m\u001b[0;34m.\u001b[0m\u001b[0mTs\u001b[0m\u001b[0;34m)\u001b[0m\u001b[0;34m\u001b[0m\u001b[0;34m\u001b[0m\u001b[0m\n\u001b[0m\u001b[1;32m    151\u001b[0m         \u001b[0;31m#  These arrays have an extra dimension for number of bands\u001b[0m\u001b[0;34m\u001b[0m\u001b[0;34m\u001b[0m\u001b[0;34m\u001b[0m\u001b[0m\n\u001b[1;32m    152\u001b[0m         \u001b[0;31m# in-cloud optical depth [nbndsw,ncol,nlay]\u001b[0m\u001b[0;34m\u001b[0m\u001b[0;34m\u001b[0m\u001b[0;34m\u001b[0m\u001b[0m\n",
      "\u001b[0;32m/opt/anaconda3/envs/rce_bump/lib/python3.7/site-packages/climlab/radiation/rrtm/utils.py\u001b[0m in \u001b[0;36m_climlab_to_rrtm_sfc\u001b[0;34m(field, Ts)\u001b[0m\n\u001b[1;32m    102\u001b[0m     \u001b[0mfieldsqueeze\u001b[0m \u001b[0;34m=\u001b[0m \u001b[0mnp\u001b[0m\u001b[0;34m.\u001b[0m\u001b[0msqueeze\u001b[0m\u001b[0;34m(\u001b[0m\u001b[0mfield\u001b[0m\u001b[0;34m)\u001b[0m\u001b[0;34m\u001b[0m\u001b[0;34m\u001b[0m\u001b[0m\n\u001b[1;32m    103\u001b[0m     \u001b[0mTsqueeze\u001b[0m \u001b[0;34m=\u001b[0m \u001b[0mnp\u001b[0m\u001b[0;34m.\u001b[0m\u001b[0msqueeze\u001b[0m\u001b[0;34m(\u001b[0m\u001b[0mTs\u001b[0m\u001b[0;34m)\u001b[0m\u001b[0;34m\u001b[0m\u001b[0;34m\u001b[0m\u001b[0m\n\u001b[0;32m--> 104\u001b[0;31m     \u001b[0;32mreturn\u001b[0m \u001b[0mfieldsqueeze\u001b[0m \u001b[0;34m*\u001b[0m \u001b[0mnp\u001b[0m\u001b[0;34m.\u001b[0m\u001b[0mones_like\u001b[0m\u001b[0;34m(\u001b[0m\u001b[0mTsqueeze\u001b[0m\u001b[0;34m)\u001b[0m\u001b[0;34m\u001b[0m\u001b[0;34m\u001b[0m\u001b[0m\n\u001b[0m",
      "\u001b[0;32m<__array_function__ internals>\u001b[0m in \u001b[0;36mones_like\u001b[0;34m(*args, **kwargs)\u001b[0m\n",
      "\u001b[0;32m/opt/anaconda3/envs/rce_bump/lib/python3.7/site-packages/numpy/core/numeric.py\u001b[0m in \u001b[0;36mones_like\u001b[0;34m(a, dtype, order, subok, shape)\u001b[0m\n\u001b[1;32m    262\u001b[0m     \"\"\"\n\u001b[1;32m    263\u001b[0m     \u001b[0mres\u001b[0m \u001b[0;34m=\u001b[0m \u001b[0mempty_like\u001b[0m\u001b[0;34m(\u001b[0m\u001b[0ma\u001b[0m\u001b[0;34m,\u001b[0m \u001b[0mdtype\u001b[0m\u001b[0;34m=\u001b[0m\u001b[0mdtype\u001b[0m\u001b[0;34m,\u001b[0m \u001b[0morder\u001b[0m\u001b[0;34m=\u001b[0m\u001b[0morder\u001b[0m\u001b[0;34m,\u001b[0m \u001b[0msubok\u001b[0m\u001b[0;34m=\u001b[0m\u001b[0msubok\u001b[0m\u001b[0;34m,\u001b[0m \u001b[0mshape\u001b[0m\u001b[0;34m=\u001b[0m\u001b[0mshape\u001b[0m\u001b[0;34m)\u001b[0m\u001b[0;34m\u001b[0m\u001b[0;34m\u001b[0m\u001b[0m\n\u001b[0;32m--> 264\u001b[0;31m     \u001b[0mmultiarray\u001b[0m\u001b[0;34m.\u001b[0m\u001b[0mcopyto\u001b[0m\u001b[0;34m(\u001b[0m\u001b[0mres\u001b[0m\u001b[0;34m,\u001b[0m \u001b[0;36m1\u001b[0m\u001b[0;34m,\u001b[0m \u001b[0mcasting\u001b[0m\u001b[0;34m=\u001b[0m\u001b[0;34m'unsafe'\u001b[0m\u001b[0;34m)\u001b[0m\u001b[0;34m\u001b[0m\u001b[0;34m\u001b[0m\u001b[0m\n\u001b[0m\u001b[1;32m    265\u001b[0m     \u001b[0;32mreturn\u001b[0m \u001b[0mres\u001b[0m\u001b[0;34m\u001b[0m\u001b[0;34m\u001b[0m\u001b[0m\n\u001b[1;32m    266\u001b[0m \u001b[0;34m\u001b[0m\u001b[0m\n",
      "\u001b[0;32m<__array_function__ internals>\u001b[0m in \u001b[0;36mcopyto\u001b[0;34m(*args, **kwargs)\u001b[0m\n",
      "\u001b[0;31mKeyboardInterrupt\u001b[0m: "
     ]
    }
   ],
   "source": [
    "%%time\n",
    "\n",
    "TEMPS = np.linspace(280, 285, 6) #np.linspace(280, 320, 41)\n",
    "CO2_arr = np.zeros(len(TEMPS))\n",
    "\n",
    "co2_init = 280\n",
    "for idx,sst in enumerate(TEMPS):\n",
    "    print(sst)\n",
    "    olr = test_olr(SST=sst,CO2=co2_init)\n",
    "    co2=co2_init\n",
    "    while abs(olr-OLR0)>0.1:\n",
    "        if olr-OLR0>0:\n",
    "            co2+=1\n",
    "            olr = test_olr(SST=sst,CO2=co2)\n",
    "        if olr-OLR0<0:\n",
    "            co2-=1\n",
    "            olr = test_olr(SST=sst,CO2=co2)\n",
    "        print(co2)\n",
    "    CO2_arr[idx] = co2"
   ]
  },
  {
   "cell_type": "code",
   "execution_count": 242,
   "metadata": {},
   "outputs": [
    {
     "data": {
      "text/plain": [
       "array([0., 0., 0., 0., 0., 0.])"
      ]
     },
     "execution_count": 242,
     "metadata": {},
     "output_type": "execute_result"
    }
   ],
   "source": [
    "CO2_arr"
   ]
  },
  {
   "cell_type": "code",
   "execution_count": null,
   "metadata": {},
   "outputs": [],
   "source": []
  },
  {
   "cell_type": "code",
   "execution_count": 16,
   "metadata": {},
   "outputs": [
    {
     "data": {
      "text/plain": [
       "0.0003"
      ]
     },
     "execution_count": 16,
     "metadata": {},
     "output_type": "execute_result"
    }
   ],
   "source": [
    "300e-6"
   ]
  },
  {
   "cell_type": "code",
   "execution_count": 25,
   "metadata": {},
   "outputs": [
    {
     "name": "stdout",
     "output_type": "stream",
     "text": [
      "Opened data from /opt/anaconda3/envs/rce_bump/lib/python3.7/site-packages/climlab/radiation/data/ozone/apeozone_cam3_5_54.nc\n"
     ]
    }
   ],
   "source": [
    "state = climlab.column_state(lev=30, num_lat=1, water_depth=1.)\n",
    "model = climlab.TimeDependentProcess(state=state)\n",
    "\n",
    "conv = climlab.convection.ConvectiveAdjustment(state=state, adj_lapse_rate='MALR')\n",
    "abs_vmr = climlab.radiation.radiation.default_absorbers(model.Tatm)\n",
    "abs_vmr = {'CO2':300e-6*np.ones(30),\n",
    "           'CH4':0.,\n",
    "           'N2O':0.,\n",
    "           'O2':0.,\n",
    "           'CFC11':0.,\n",
    "           'CFC12':0.,\n",
    "           'CFC22':0.,\n",
    "           'CCL4':0.,\n",
    "           'O3':0.\n",
    "          }\n",
    "\n",
    "h2o = climlab.radiation.water_vapor.FixedRelativeHumidity(state=model.state)\n",
    "h2o.RH_profile = 0.8\n",
    "rad = climlab.radiation.RRTMG(state=state,\n",
    "                             specific_humidity=h2o.q,\n",
    "                             albedo = 0.3,\n",
    "                             absorber_vmr = abs_vmr)\n",
    "\n",
    "model.add_subprocess('Radiation', rad)\n",
    "model.add_subprocess('ConvectiveAdjustment', conv)\n",
    "model.add_subprocess('WaterVapor', h2o)"
   ]
  },
  {
   "cell_type": "code",
   "execution_count": null,
   "metadata": {},
   "outputs": [],
   "source": []
  },
  {
   "cell_type": "code",
   "execution_count": null,
   "metadata": {},
   "outputs": [],
   "source": [
    "# assign surface temperature and vertical temperature profiles\n",
    "    Ts_ = climlab.Field(np.array([SST]), domain=sfc)\n",
    "    state['Ts'] = Ts_\n",
    "\n",
    "    temp = generate_idealized_temp_profile(SST, \n",
    "                                           params.Tstrat, \n",
    "                                           atm.axes['lev'].points)\n",
    "    Tatm = climlab.Field(temp, domain=atm)\n",
    "    state['Tatm'] = Tatm"
   ]
  },
  {
   "cell_type": "code",
   "execution_count": null,
   "metadata": {},
   "outputs": [],
   "source": [
    "def run_column_fixedRH(atm_input, rh_input, gcm_p, co2_lev=3e-4, insol=175.2, alb=0.54,surf_forc=0):\n",
    "    \n",
    "    state = climlab.column_state(lev=gcm_p, num_lat=1, water_depth=1.)\n",
    "    model = climlab.TimeDependentProcess(state=state)\n",
    "    \n",
    "    conv = climlab.convection.ConvectiveAdjustment(state=state, adj_lapse_rate='MALR')\n",
    "    abs_vmr = climlab.radiation.radiation.default_absorbers(model.Tatm)\n",
    "    abs_vmr['CO2']=co2_lev\n",
    "    h2o = climlab.radiation.water_vapor.FixedRelativeHumidity(state=model.state)\n",
    "    h2o.RH_profile = rh_input\n",
    "    rad = climlab.radiation.RRTMG(state=state,\n",
    "                                 specific_humidity=h2o.q,\n",
    "                                 albedo = alb,\n",
    "                                 insolation = insol,\n",
    "                                 absorber_vmr = abs_vmr)\n",
    "    myforcing = ExternalForcing(state=state)\n",
    "    myforcing.forcing_tendencies['Tatm']=atm_input\n",
    "    myforcing.forcing_tendencies['Ts']=surf_forc\n",
    "    model.add_subprocess('Radiation', rad)\n",
    "    model.add_subprocess('ConvectiveAdjustment', conv)\n",
    "    model.add_subprocess('WaterVapor', h2o)\n",
    "    model.integrate_years(1,False)\n",
    "    return model"
   ]
  },
  {
   "cell_type": "code",
   "execution_count": null,
   "metadata": {},
   "outputs": [],
   "source": []
  }
 ],
 "metadata": {
  "kernelspec": {
   "display_name": "rce_bump",
   "language": "python",
   "name": "rce_bump"
  },
  "language_info": {
   "codemirror_mode": {
    "name": "ipython",
    "version": 3
   },
   "file_extension": ".py",
   "mimetype": "text/x-python",
   "name": "python",
   "nbconvert_exporter": "python",
   "pygments_lexer": "ipython3",
   "version": "3.7.9"
  }
 },
 "nbformat": 4,
 "nbformat_minor": 4
}
