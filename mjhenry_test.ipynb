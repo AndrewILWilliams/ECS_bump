{
 "cells": [
  {
   "cell_type": "code",
   "execution_count": 1,
   "metadata": {},
   "outputs": [],
   "source": [
    "import climlab"
   ]
  },
  {
   "cell_type": "code",
   "execution_count": 3,
   "metadata": {},
   "outputs": [],
   "source": [
    "def run_column(atm_input, sh_input, gcm_p, co2_lev=3e-4, insol=175.2, alb=0.54,surf_forc=0):\n",
    "    \n",
    "    state = climlab.column_state(lev=gcm_p, num_lat=1, water_depth=1.)\n",
    "    model = climlab.TimeDependentProcess(state=state)\n",
    "    \n",
    "    conv = climlab.convection.ConvectiveAdjustment(state=state, adj_lapse_rate='MALR')\n",
    "    abs_vmr = climlab.radiation.radiation.default_absorbers(model.Tatm)\n",
    "    abs_vmr['CO2']=co2_lev\n",
    "    rad = climlab.radiation.RRTMG(state=state,\n",
    "                                 specific_humidity=sh_input,\n",
    "                                 albedo = alb,\n",
    "                                 insolation = insol,\n",
    "                                 absorber_vmr = abs_vmr)\n",
    "    myforcing = ExternalForcing(state=state)\n",
    "    myforcing.forcing_tendencies['Tatm']=atm_input\n",
    "    myforcing.forcing_tendencies['Ts']=surf_forc\n",
    "    model.add_subprocess('Radiation', rad)\n",
    "    model.add_subprocess('ConvectiveAdjustment', conv)\n",
    "    model.add_subprocess('advective forcing', myforcing)\n",
    "    model.integrate_years(1,False)\n",
    "    return model\n",
    "\n",
    "def run_column_fixedRH(atm_input, rh_input, gcm_p, co2_lev=3e-4, insol=175.2, alb=0.54,surf_forc=0):\n",
    "    \n",
    "    state = climlab.column_state(lev=gcm_p, num_lat=1, water_depth=1.)\n",
    "    model = climlab.TimeDependentProcess(state=state)\n",
    "    \n",
    "    conv = climlab.convection.ConvectiveAdjustment(state=state, adj_lapse_rate='MALR')\n",
    "    abs_vmr = climlab.radiation.radiation.default_absorbers(model.Tatm)\n",
    "    abs_vmr['CO2']=co2_lev\n",
    "    h2o = climlab.radiation.water_vapor.FixedRelativeHumidity(state=model.state)\n",
    "    h2o.RH_profile = rh_input\n",
    "    rad = climlab.radiation.RRTMG(state=state,\n",
    "                                 specific_humidity=h2o.q,\n",
    "                                 albedo = alb,\n",
    "                                 insolation = insol,\n",
    "                                 absorber_vmr = abs_vmr)\n",
    "    myforcing = ExternalForcing(state=state)\n",
    "    myforcing.forcing_tendencies['Tatm']=atm_input\n",
    "    myforcing.forcing_tendencies['Ts']=surf_forc\n",
    "    model.add_subprocess('Radiation', rad)\n",
    "    model.add_subprocess('ConvectiveAdjustment', conv)\n",
    "    model.add_subprocess('advective forcing', myforcing)\n",
    "    model.add_subprocess('WaterVapor', h2o)\n",
    "    model.integrate_years(1,False)\n",
    "    return model"
   ]
  },
  {
   "cell_type": "code",
   "execution_count": null,
   "metadata": {},
   "outputs": [],
   "source": []
  },
  {
   "cell_type": "code",
   "execution_count": null,
   "metadata": {},
   "outputs": [],
   "source": []
  },
  {
   "cell_type": "code",
   "execution_count": null,
   "metadata": {},
   "outputs": [],
   "source": []
  },
  {
   "cell_type": "code",
   "execution_count": null,
   "metadata": {},
   "outputs": [],
   "source": []
  }
 ],
 "metadata": {
  "kernelspec": {
   "display_name": "rce_bump",
   "language": "python",
   "name": "rce_bump"
  },
  "language_info": {
   "codemirror_mode": {
    "name": "ipython",
    "version": 3
   },
   "file_extension": ".py",
   "mimetype": "text/x-python",
   "name": "python",
   "nbconvert_exporter": "python",
   "pygments_lexer": "ipython3",
   "version": "3.7.9"
  }
 },
 "nbformat": 4,
 "nbformat_minor": 4
}
