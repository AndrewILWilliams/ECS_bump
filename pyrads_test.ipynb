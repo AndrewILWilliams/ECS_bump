{
 "cells": [
  {
   "cell_type": "code",
   "execution_count": 18,
   "metadata": {},
   "outputs": [],
   "source": [
    "import os\n",
    "os.chdir('/Users/andrewwilliams/Desktop/PhD/Projects/PyRADS/')\n",
    "import pyrads\n",
    "import numpy as np\n",
    "from scipy.integrate import trapz,simps,cumtrapz\n",
    "\n",
    "class Dummy:\n",
    "    pass\n",
    "\n",
    "params = Dummy()\n",
    "\n",
    "params.Rv = pyrads.phys.H2O.R # moist component\n",
    "params.cpv = pyrads.phys.H2O.cp\n",
    "params.Lvap = pyrads.phys.H2O.L_vaporization_TriplePoint\n",
    "params.satvap_T0 = pyrads.phys.H2O.TriplePointT\n",
    "params.satvap_e0 = pyrads.phys.H2O.TriplePointP\n",
    "params.esat = lambda T: pyrads.Thermodynamics.get_satvps(T,params.satvap_T0,params.satvap_e0,params.Rv,params.Lvap)\n",
    "\n",
    "params.R = pyrads.phys.air.R  # dry component\n",
    "params.cp = pyrads.phys.air.cp\n",
    "params.ps_dry = 1e5           # surface pressure of dry component\n",
    "\n",
    "params.g = 9.8             # surface gravity\n",
    "params.cosThetaBar = 3./5. # average zenith angle used in 2stream eqns\n",
    "params.RH = 1.             # relative humidity\n",
    "\n",
    "# setup resolution\n",
    "N_press = 30\n",
    "dwavenr = 0.1\n",
    "\n",
    "wavenr_min = 0.1   # [cm^-1]\n",
    "wavenr_max = 3500. #\n",
    "\n",
    "Tstrat = 200.      # stratospheric temperature\n",
    "Ts = 300.\n",
    "\n",
    "# setup grid:\n",
    "g = pyrads.SetupGrids.make_grid( Ts,Tstrat,N_press,wavenr_min,wavenr_max,dwavenr,params, RH=params.RH )"
   ]
  },
  {
   "cell_type": "code",
   "execution_count": null,
   "metadata": {},
   "outputs": [],
   "source": []
  },
  {
   "cell_type": "code",
   "execution_count": null,
   "metadata": {},
   "outputs": [],
   "source": []
  },
  {
   "cell_type": "code",
   "execution_count": null,
   "metadata": {},
   "outputs": [],
   "source": []
  }
 ],
 "metadata": {
  "kernelspec": {
   "display_name": "rce_bump",
   "language": "python",
   "name": "rce_bump"
  },
  "language_info": {
   "codemirror_mode": {
    "name": "ipython",
    "version": 3
   },
   "file_extension": ".py",
   "mimetype": "text/x-python",
   "name": "python",
   "nbconvert_exporter": "python",
   "pygments_lexer": "ipython3",
   "version": "3.7.9"
  }
 },
 "nbformat": 4,
 "nbformat_minor": 4
}
